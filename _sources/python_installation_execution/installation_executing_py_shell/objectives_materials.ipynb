{
 "cells": [
  {
   "cell_type": "markdown",
   "metadata": {},
   "source": [
    "# Installation and introduction to Pixi\n",
    "\n",
    "## Learning Objectives\n",
    "\n",
    "After working through this topic, you should be able to:\n",
    "\n",
    "- Explain why we use [pixi](https://prefix.dev/) to install Python\n",
    "- Follow the installation instructions at https://pixi.sh/latest/#installation\n",
    "- Execute python files from your shell using `pixi run`\n",
    "\n",
    "### Installation\n",
    "\n",
    "- Follow the installation instructions at https://pixi.sh/latest/#installation\n",
    "- Remember to start a new shell after installation!\n",
    "- In case you have any trouble, ask for help in the course Zulip\n",
    "\n",
    "## Materials\n",
    "\n",
    "Video:\n",
    "\n",
    "<iframe\n",
    "  src=\"https://electure.uni-bonn.de/paella7/ui/watch.html?id=0599abc0-2802-4871-9ed2-68edc0f5b24b\"\n",
    "  width=\"640\"\n",
    "  height=\"360\"\n",
    "  frameborder=\"0\"\n",
    "  allowfullscreen\n",
    "></iframe>\n",
    "\n",
    "Download the [slides](python_installation_execution-installation_executing_py_shell.pdf).\n",
    "\n",
    "\n",
    "## Quiz"
   ]
  },
  {
   "cell_type": "code",
   "execution_count": null,
   "metadata": {
    "tags": [
     "remove-input"
    ]
   },
   "outputs": [],
   "source": [
    "from jupyterquiz import display_quiz\n",
    "\n",
    "content = [\n",
    "    {\n",
    "        \"question\": (\n",
    "            \"Your project's folder contains the following files: pyproject.toml, \\\n",
    "            exercise_1.py, a folder called data, and a folder called results. Your \\\n",
    "            shell is currently in the data folder. Which of the following commands \\\n",
    "            would you use to run the exercise_1.py script?\"\n",
    "        ),\n",
    "        \"type\": \"many_choice\",\n",
    "        \"answers\": [\n",
    "            {\n",
    "                \"answer\": \"'pixi run python exercise_1.py'\",\n",
    "                \"correct\": False,\n",
    "                \"feedback\": \"This would work if you were in the folder containing \\\n",
    "                exercise_1.py.\",\n",
    "            },\n",
    "            {\n",
    "                \"answer\": \"'pixi run python ../exercise_1.py'\",\n",
    "                \"correct\": True,\n",
    "                \"feedback\": \"This works because ../ moves you up one folder, \\\n",
    "                    and then you can run the script from there.\",\n",
    "            },\n",
    "            {\n",
    "                \"answer\": \"'python ../exercise_1.py'\",\n",
    "                \"correct\": False,\n",
    "                \"feedback\": \"This may work when you have some Python installed system-\\\n",
    "                    wide, but it will not pick up the Python executable installed via \\\n",
    "                    pixi.\",\n",
    "            },\n",
    "            {\n",
    "                \"answer\": \"'pixi run python ~/exercise_1.py'\",\n",
    "                \"correct\": False,\n",
    "                \"feedback\": \"This would only work if your project folder was your home \\\n",
    "                    folder (hopefully that is not the case!).\",\n",
    "            },\n",
    "            {\n",
    "                \"answer\": \"'cd ..' and then 'pixi run python exercise_1.py'\",\n",
    "                \"correct\": True,\n",
    "                \"feedback\": \"This works because cd .. moves you up one folder, \\\n",
    "                    and then you can run the script from there.\",\n",
    "            },\n",
    "        ],\n",
    "    },\n",
    "]\n",
    "display_quiz(content, colors=\"fdsp\")"
   ]
  }
 ],
 "metadata": {
  "language_info": {
   "codemirror_mode": {
    "name": "ipython",
    "version": 3
   },
   "file_extension": ".py",
   "mimetype": "text/x-python",
   "name": "python",
   "nbconvert_exporter": "python",
   "pygments_lexer": "ipython3"
  }
 },
 "nbformat": 4,
 "nbformat_minor": 2
}
