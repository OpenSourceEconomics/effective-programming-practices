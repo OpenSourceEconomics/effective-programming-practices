{
 "cells": [
  {
   "cell_type": "markdown",
   "metadata": {},
   "source": [
    "# For loops\n",
    "\n",
    "## Learning Objectives\n",
    "\n",
    "After working through this topic, you should be able to:\n",
    "\n",
    "- Explain what a for loop is and list examples where it can be useful\n",
    "- Write for loops that iterate over:\n",
    "    - Elements in lists and tuples \n",
    "    - Keys, values or keys and values in a dictionary\n",
    "- Write for loops applying a manipulation to all elements in a container\n",
    "- Use for loops to sum up numbers in a list\n",
    "\n",
    "\n",
    "## Materials\n",
    "\n",
    "Here is the\n",
    "[screencast](https://player.uni-bonn.educast.nrw/466ec124-c881-4ec7-b7ca-d518c0a05d4a)\n",
    "and these are the [slides](python_basics-for_loops.pdf).\n",
    "\n",
    "## Further Reading\n",
    "\n",
    "- [Real Python tutorial](https://realpython.com/python-for-loop/) on for loops. Note\n",
    "  that this contains many things you do not need to know!\n",
    "\n",
    "\n",
    "## Quiz"
   ]
  },
  {
   "cell_type": "code",
   "execution_count": null,
   "metadata": {
    "tags": [
     "remove-input"
    ]
   },
   "outputs": [],
   "source": [
    "from epp_topics.quiz_utilities import display_quiz\n",
    "\n",
    "content = {\n",
    "    \"Repeating code snippets should be avoided because ...\": {\n",
    "        \"programme runtime generally rises.\": False,\n",
    "        \"it is easy to forget about fixing bugs in all places, leading to extra work.\": True,\n",
    "        \"when changing behaviour of the code, one often misses out on some places, leading potentially subtle bugs.\": True,\n",
    "        \"the extra amount of disk space used often is problematic.\": False,\n",
    "    },\n",
    "    \"For loops are to be avoided like the plague because ...\": {\n",
    "        \"not true.\": True,\n",
    "        \"they are always slower than readily available alternatives.\": False,\n",
    "        \"they will cause bottlenecks in your programmes.\": False,\n",
    "        \"they always lead to trouble with mutable objects.\": False,\n",
    "    },\n",
    "    \"`for i in []:` `print(i)` will output\": {\n",
    "        \"Nothing\": True,\n",
    "        \"0\": False,\n",
    "    },\n",
    "    \"`for i in [1, 2, 3]:` `print(i)` will output\": {\n",
    "        \"0 1 2\": False,\n",
    "        \"1 2 3\": True,\n",
    "    },\n",
    "    \"Three important types of loops and correct descriptions are\": {\n",
    "        \"Meshing loops, which are used to create sparse grids.\": False,\n",
    "        \"Reduction loops, which are used to aggregate out some dimension(s) from a list of inputs.\": True,\n",
    "        \"Filtering loops, which are used to remove elements from a list.\": True,\n",
    "        \"Mapping loops, which are used to put values on a map.\": False,\n",
    "        \"Reduction loops, which are used to remove elements from a list.\": False,\n",
    "        \"Mapping loops, which are used to apply a function to a list of inputs.\": True,\n",
    "    },\n",
    "}\n",
    "\n",
    "display_quiz(content)"
   ]
  },
  {
   "cell_type": "code",
   "execution_count": null,
   "metadata": {},
   "outputs": [],
   "source": []
  }
 ],
 "metadata": {
  "language_info": {
   "codemirror_mode": {
    "name": "ipython",
    "version": 3
   },
   "file_extension": ".py",
   "mimetype": "text/x-python",
   "name": "python",
   "nbconvert_exporter": "python",
   "pygments_lexer": "ipython3"
  }
 },
 "nbformat": 4,
 "nbformat_minor": 2
}
