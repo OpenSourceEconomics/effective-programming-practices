{
 "cells": [
  {
   "cell_type": "markdown",
   "metadata": {},
   "source": [
    "# Modifying Pixi environments\n",
    "\n",
    "## Learning Objectives\n",
    "\n",
    "After working through this topic, you should be able to:\n",
    "\n",
    "- Explain the difference `pyproject.toml` and `pixi.lock` files\n",
    "- Analyze the structure of `pyproject.toml` files\n",
    "- Add new packages to pixi environments in one of two ways\n",
    "  1. Modify `pyproject.toml`\n",
    "  2. Run `pixi add <package>`\n",
    "\n",
    "\n",
    "## Materials\n",
    "\n",
    "Video:\n",
    "\n",
    "<iframe\n",
    "  src=\"https://electure.uni-bonn.de/paella7/ui/watch.html?id=ed0283ce-07e1-4b61-8732-6ada935b895d\"\n",
    "  width=\"640\"\n",
    "  height=\"360\"\n",
    "  frameborder=\"0\"\n",
    "  allowfullscreen\n",
    "></iframe>\n",
    "\n",
    "Download the [slides](python_installation_execution-pixi_modifying_environments.pdf).\n",
    "\n",
    "\n",
    "## Quiz"
   ]
  },
  {
   "cell_type": "code",
   "execution_count": null,
   "metadata": {
    "tags": [
     "remove-input"
    ]
   },
   "outputs": [],
   "source": [
    "from epp_topics.quiz_utilities import display_quiz\n",
    "\n",
    "content = {\n",
    "    \"What constitutes a `pyproject.toml` file (among potentially other things)?\": {\n",
    "        \"A recipe of packages to download\": True,\n",
    "        \"A set of Python packages installed on your computer\": False,\n",
    "        \"Something you share with your team members via git\": True,\n",
    "        \"Something very complicated that you should avoid\": False,\n",
    "    },\n",
    "    \"What is a pixi environment\": {\n",
    "        \"A collection of Python packages installed on your computer\": True,\n",
    "        \"A recipe of packages to download\": False,\n",
    "        \"Something you share with your team members via git\": False,\n",
    "    },\n",
    "    \"What are good ways of adding packages to environments?\": {\n",
    "        \"pip install them, as seen on the web.\": False,\n",
    "        \"Add them to pyproject.toml, then run pixi\": True,\n",
    "        \"conda install them, as seen on the web\": False,\n",
    "        \"Run pixi add <package>\": True,\n",
    "    },\n",
    "    \"Which of the following statements about pixi.lock files are true?\": {\n",
    "        \"They are the collection of Python packages installed on your computer\": False,\n",
    "        \"They contain the precise versions of the packages installed\": True,\n",
    "        \"They do not contain any extra information compared to the pyproject.toml \\\n",
    "            file\": False,\n",
    "        \"They are to be modified by hand.\": False,\n",
    "        \"They make sure you can reproduce the environment exactly.\": True,\n",
    "    },\n",
    "}\n",
    "\n",
    "display_quiz(content)"
   ]
  }
 ],
 "metadata": {
  "language_info": {
   "codemirror_mode": {
    "name": "ipython",
    "version": 3
   },
   "file_extension": ".py",
   "mimetype": "text/x-python",
   "name": "python",
   "nbconvert_exporter": "python",
   "pygments_lexer": "ipython3"
  }
 },
 "nbformat": 4,
 "nbformat_minor": 2
}
